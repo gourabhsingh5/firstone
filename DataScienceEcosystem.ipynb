{
 "cells": [
  {
   "cell_type": "markdown",
   "id": "8a164cc0",
   "metadata": {},
   "source": [
    "# Data Science Tools and Ecosystem"
   ]
  },
  {
   "cell_type": "markdown",
   "id": "ac642e30",
   "metadata": {},
   "source": [
    " ## In this notebook, Data Science Tools and Ecosystem are summarized."
   ]
  },
  {
   "cell_type": "markdown",
   "id": "79730a1e",
   "metadata": {},
   "source": [
    "<b>Objectives:</b>\n",
    "\n",
    "- List popular languages for Data Science\n",
    "- List popular libraries for Data Science\n",
    "- List free open source tools for Data Science\n",
    "- Introductory Arithmetic expressions in Python\n",
    "- Use of Markdown cells"
   ]
  },
  {
   "cell_type": "markdown",
   "id": "6142d772",
   "metadata": {},
   "source": [
    "## Some of the popular languages that Data Scientists use are:\n",
    "\n",
    "1. Python\n",
    "2. R\n",
    "3. SQL"
   ]
  },
  {
   "cell_type": "markdown",
   "id": "b661ab14",
   "metadata": {},
   "source": [
    "## Some of the commonly used libraries used by Data Scientists include:\n",
    "\n",
    "1. Numpy\n",
    "2. SciKit Learn\n",
    "3. Pandas\n",
    "3. Matplotlib\n",
    "4. ggplot\n",
    "5. Seaborn\n",
    "6. SciPy"
   ]
  },
  {
   "cell_type": "markdown",
   "id": "9214c54b",
   "metadata": {},
   "source": [
    "<table>\n",
    "<tr><th>Data Science Tools</th></tr>\n",
    "<tr><td style=\"text-align: center\">Jupyter Lab</td></tr>\n",
    "<tr><td style=\"text-align: center\">Github</td></tr>\n",
    "<tr><td style=\"text-align: center\">RSTudio</td></tr>\n",
    "</table>"
   ]
  },
  {
   "cell_type": "markdown",
   "id": "d25181ca",
   "metadata": {},
   "source": [
    "### Below are a few examples of evaluating arithmetic expressions in Python\n",
    "\n",
    "1. x= a+b\n",
    "2. x= a-b\n",
    "3. x= a/b\n",
    "4. x= a*b\n",
    "5. x= a//b\n",
    "6. x= a%b\n",
    "7. x= a**b"
   ]
  },
  {
   "cell_type": "code",
   "execution_count": 1,
   "id": "d24b5382",
   "metadata": {},
   "outputs": [
    {
     "name": "stdout",
     "output_type": "stream",
     "text": [
      "17\n"
     ]
    }
   ],
   "source": [
    "# This a simple arithmetic expression to mutiply then add integers.\n",
    "x= (3*4)+5\n",
    "print(x)"
   ]
  },
  {
   "cell_type": "code",
   "execution_count": 6,
   "id": "d9944ede",
   "metadata": {},
   "outputs": [
    {
     "name": "stdout",
     "output_type": "stream",
     "text": [
      "3.33\n"
     ]
    }
   ],
   "source": [
    "# This will convert 200 minutes to hours by dividing by 60\n",
    "x= 200/60\n",
    "print(round(x,2))"
   ]
  },
  {
   "cell_type": "markdown",
   "id": "49239111",
   "metadata": {},
   "source": [
    "## Author\n",
    "Gourabh Singh"
   ]
  },
  {
   "cell_type": "code",
   "execution_count": null,
   "id": "f9eac39d",
   "metadata": {},
   "outputs": [],
   "source": []
  }
 ],
 "metadata": {
  "kernelspec": {
   "display_name": "Python 3 (ipykernel)",
   "language": "python",
   "name": "python3"
  },
  "language_info": {
   "codemirror_mode": {
    "name": "ipython",
    "version": 3
   },
   "file_extension": ".py",
   "mimetype": "text/x-python",
   "name": "python",
   "nbconvert_exporter": "python",
   "pygments_lexer": "ipython3",
   "version": "3.9.13"
  }
 },
 "nbformat": 4,
 "nbformat_minor": 5
}
